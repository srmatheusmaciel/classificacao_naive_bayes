{
 "cells": [
  {
   "cell_type": "code",
   "execution_count": null,
   "metadata": {},
   "outputs": [],
   "source": [
    "# pipenv install pandas plotly matplotlib statsmodels nbformat ipykernel \n",
    "# scikit-learn ipywidgets sweetviz flask pydantic Flask-PyDantic pyarrow\n",
    "\n",
    "# pip install --upgrade pip setuptools (se der erro na instalação ou na importação)\n",
    "\n",
    "# pipenv shell\n",
    "\n",
    "# EDA\n",
    "import pandas as pd\n",
    "import statsmodels.api as sm\n",
    "import plotly.express as px\n",
    "import plotly.figure_factory as ff\n",
    "import matplotlib.pyplot as plt\n",
    "import sweetviz as sv\n",
    "\n",
    "# ML\n",
    "from sklearn.model_selection import train_test_split\n",
    "from sklearn.feature_selection import SelectKBest, chi2\n",
    "from sklearn.naive_bayes import GaussianNB\n",
    "from sklearn.metrics import classification_report, confusion_matrix, ConfusionMatrixDisplay, recall_score\n",
    "\n",
    "# Optimize Hiperparameters\n",
    "import optuna"
   ]
  }
 ],
 "metadata": {
  "kernelspec": {
   "display_name": "classificacao_naive_bayes-IVnTwsyk",
   "language": "python",
   "name": "python3"
  },
  "language_info": {
   "codemirror_mode": {
    "name": "ipython",
    "version": 3
   },
   "file_extension": ".py",
   "mimetype": "text/x-python",
   "name": "python",
   "nbconvert_exporter": "python",
   "pygments_lexer": "ipython3",
   "version": "3.12.3"
  }
 },
 "nbformat": 4,
 "nbformat_minor": 2
}
